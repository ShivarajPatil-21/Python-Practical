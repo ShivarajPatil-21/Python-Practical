{
 "cells": [
  {
   "cell_type": "code",
   "execution_count": null,
   "metadata": {},
   "outputs": [],
   "source": []
  },
  {
   "cell_type": "markdown",
   "metadata": {},
   "source": [
    "### File Info\n",
    "\n",
    "Aim:- To Study , learn and perfrom operations of topics Tuple,Set,Dictionary.\n",
    "\n",
    "Id :-20CS062\n",
    "\n",
    "Name :- Shivaraj Patli \n"
   ]
  },
  {
   "cell_type": "markdown",
   "metadata": {},
   "source": [
    "### Dictonaries\n",
    "\n",
    "This Markdown contains the following opertions :\n",
    "\n",
    "    a. Write a Python script to check whether a given key already exists in a dictionary.\n",
    "    b. Write a Python script to merge two Python dictionaries.\n",
    "    c. Write a Python program to sum all the items in a dictionary.\n",
    "    d. Write a Python script to add a key to a dictionary.\n",
    "    e. Write a Python script to concatenate following dictionaries to create a new one."
   ]
  },
  {
   "cell_type": "code",
   "execution_count": null,
   "metadata": {},
   "outputs": [],
   "source": [
    "# a. Write a Python script to check whether a given key already exists in a dictionary.\n",
    "data={1:'Shivaraj',2:'Meghal',3:'Tarsh'}\n",
    "print(data)\n",
    "\n",
    "#accepting key to check its existence in data dictionary \n",
    "key=int(input(\"\\tEnter a key to check its existence :\"))\n",
    "\n",
    "#if the key is in the given data dictonary then it exists otherwise it doesn't\n",
    "if key in data:\n",
    "    print(key,\" exists \")\n",
    "else:\n",
    "    print(key,\" doesn't exist \")"
   ]
  },
  {
   "cell_type": "code",
   "execution_count": null,
   "metadata": {},
   "outputs": [
    {
     "name": "stdout",
     "output_type": "stream",
     "text": [
      "web = {'HTML': 1, 'CSS': 2, 'JAVA_SCRIPT': 3}\n",
      "android = {'JAVA': 1, 'KOTLIN': 2, 'XML': 3}\n",
      "merged dictionary = {'HTML': 1, 'CSS': 2, 'JAVA_SCRIPT': 3, 'JAVA': 1, 'KOTLIN': 2, 'XML': 3}\n"
     ]
    }
   ],
   "source": [
    "#b.Write a Python script to merge two dictonaries.\n",
    "web={'HTML':1,\"CSS\":2,\"JAVA_SCRIPT\":3}\n",
    "android={'JAVA':1,'KOTLIN':2,'XML':3}\n",
    "\n",
    "print(\"web =\",web)\n",
    "print(\"android =\",android)\n",
    "#There are at mostly three ways of merging dictonaries in python\n",
    "\n",
    "# 1st way\n",
    "# android.update(web)\n",
    "\n",
    "#2nd Way\n",
    "# merged_dic=android | web\n",
    "\n",
    "#3d Wa\n",
    "merged_dic={**web,**android}\n",
    "print(\"merged dictionary =\",merged_dic)"
   ]
  },
  {
   "cell_type": "code",
   "execution_count": null,
   "metadata": {},
   "outputs": [
    {
     "name": "stdout",
     "output_type": "stream",
     "text": [
      "150\n",
      "150\n"
     ]
    }
   ],
   "source": [
    "#c.Write a python programme to sum all items in a dictonary\n",
    "\n",
    "#declaring a dict containg numbers as items'\n",
    "num={'a':10,'b':20,'c':30,'d':40,'e':50}\n",
    "\n",
    "#way 1\n",
    "values=num.values() #storing the items of num (dic) using values function\n",
    "total=sum(values)   #calculating the sum of items of num using sum function\n",
    "print(total)\n",
    "\n",
    "#way 2\n",
    "sum=0\n",
    "#iterating through each item of dictionary and calculating sum of it\n",
    "for i in num:\n",
    "        sum+=num[i]\n",
    "print(sum)\n",
    "        "
   ]
  },
  {
   "cell_type": "code",
   "execution_count": null,
   "metadata": {},
   "outputs": [
    {
     "name": "stdout",
     "output_type": "stream",
     "text": [
      "{1: 'JAVA', 2: 'C++', 3: 'KOTLIN'}\n",
      "{1: 'JAVA', 2: 'C++', 3: 'KOTLIN', 4: 'Python'}\n"
     ]
    }
   ],
   "source": [
    "#d.Write a python script to add a key to dictonary\n",
    "language={1:'JAVA',2:'C++',3:'KOTLIN'}\n",
    "print(language)#printing the current status  of dict\n",
    "#inserting a key 4 containg item 'Python'\n",
    "language[4]='Python'\n",
    "print(language)#printing the modified language(dict)"
   ]
  },
  {
   "cell_type": "code",
   "execution_count": null,
   "metadata": {},
   "outputs": [
    {
     "name": "stdout",
     "output_type": "stream",
     "text": [
      "First : {1: 10, 2: 20, 3: 30}\n",
      "Second : {4: 40, 5: 50, 6: 60}\n",
      "Third : {7: 70, 8: 80, 9: 90}\n",
      "Concated Dictionary = {1: 10, 2: 20, 3: 30, 4: 40, 5: 50, 6: 60, 7: 70, 8: 80, 9: 90}\n"
     ]
    }
   ],
   "source": [
    "#e.Write a Python script to concatenate following dictionaries to create a new one.\n",
    "\n",
    "first={1:10,2:20,3:30}\n",
    "second={4:40,5:50,6:60}\n",
    "third={7:70,8:80,9:90}\n",
    "combo={}\n",
    "\n",
    "#printing the initial values of first second third\n",
    "print(\"First :\",first)\n",
    "print(\"Second :\",second)\n",
    "print(\"Third :\",third)\n",
    "\n",
    "#in each iteration of i , i is an item in first second and third respectivley \n",
    "for i in (first,second,third):\n",
    "        combo.update(i)\n",
    "print(\"Concated Dictionary =\",combo)"
   ]
  },
  {
   "cell_type": "markdown",
   "metadata": {},
   "source": []
  },
  {
   "cell_type": "markdown",
   "metadata": {},
   "source": [
    "### Tuple\n",
    "Operations to be performed are given as follow :\n",
    "        \n",
    "        a. Write a Python program to create a tuple with different data types.\n",
    "        b. Write a Python program to create a tuple with numbers and print one item.\n",
    "        c. Write a Python program to add an item in a tuple.\n",
    "        d. Write a Python program to convert a tuple to a string.\n",
    "        e. Write a Python program to find the length of a tuple.\n"
   ]
  },
  {
   "cell_type": "code",
   "execution_count": null,
   "metadata": {},
   "outputs": [
    {
     "name": "stdout",
     "output_type": "stream",
     "text": [
      "Tup =  (1, 'One', 1.1, True, [10, 20, 30, 40], {101, 102, 103})\n"
     ]
    }
   ],
   "source": [
    "#a. Write a Python Programme to create a tuple with different data types.\n",
    "\n",
    "tup=(1,'One',1.1,True,[10,20,30,40],{101,102,103})\n",
    "print(\"Tup = \",tup)"
   ]
  },
  {
   "cell_type": "code",
   "execution_count": null,
   "metadata": {},
   "outputs": [
    {
     "name": "stdout",
     "output_type": "stream",
     "text": [
      "The item at index 4 is :-  50\n"
     ]
    }
   ],
   "source": [
    "#b. Write a Python programme to create a tupe with numebrs and print one item.\n",
    "tup=(10,20,30,40,50)\n",
    "print(\"The item at index 4 is :- \",tup[4])"
   ]
  },
  {
   "cell_type": "code",
   "execution_count": null,
   "metadata": {},
   "outputs": [
    {
     "name": "stdout",
     "output_type": "stream",
     "text": [
      "(10, 20, 30, 40)\n",
      "(10, 20, 30, 40, 50)\n"
     ]
    }
   ],
   "source": [
    "#c. Write a Python programme to add an item in a tupple\n",
    "\n",
    "tup=(10,20,30,40)\n",
    "print(tup)\n",
    "\n",
    "\"\"\" \n",
    "tup[len(tup)+1]=50\n",
    "# the above code will give error because Tuples in Python are immutable which means after declaration\n",
    "# tuples can't be modified/changed so we can not add or delete values from it \n",
    "\n",
    "#But we can create a new tupple and add the previous tupple to new one along with the changes we want\n",
    "# to make in previous one \"\"\"\n",
    "\n",
    "#eg:- \n",
    "tup=tup+(50,)\n",
    "print(tup)\n"
   ]
  },
  {
   "cell_type": "code",
   "execution_count": null,
   "metadata": {},
   "outputs": [
    {
     "name": "stdout",
     "output_type": "stream",
     "text": [
      "Tup : ('Python', ' Is ', ' An ', ' Awsome ', ' Language ')\n",
      "Python Is  An  Awsome  Language \n"
     ]
    }
   ],
   "source": [
    "#d.Write a programme to convert a tupe into a string \n",
    "\n",
    "#declaring tuple \n",
    "tup=('Python',' Is ',' An ',' Awsome ',' Language ')\n",
    "print(\"Tup :\",tup)\n",
    "#creating a string variable to store values of tupple\n",
    "string_tupple=''\n",
    "#loop will give each element in tuple and will store in above variable \n",
    "for i in tup:\n",
    "        string_tupple+=i\n",
    "print(string_tupple)\n"
   ]
  },
  {
   "cell_type": "code",
   "execution_count": null,
   "metadata": {},
   "outputs": [
    {
     "name": "stdout",
     "output_type": "stream",
     "text": [
      "Tup : ('Python', ' Is ', ' An ', ' Awsome ', ' Language ')\n",
      "Length of Tup : 5\n"
     ]
    }
   ],
   "source": [
    "#e. Write a Python programme to find the length of the tupel. \n",
    "\n",
    "tup=('Python',' Is ',' An ',' Awsome ',' Language ')\n",
    "print(\"Tup :\",tup)\n",
    "print(\"Length of Tup :\",len(tup))#using length function to find the length of tuple"
   ]
  },
  {
   "cell_type": "markdown",
   "metadata": {},
   "source": [
    "### Set\n",
    "\n",
    "Operations to be performed are given as follow :\n",
    "\n",
    "        a. Write a Python program to add member(s) in a set and clear a set\n",
    "        b. Write a Python program to remove an item from a set if it is present in the set.\n",
    "        c. Write a Python program to create an intersection, Union, difference of sets.\n",
    "        d. Write a Python program to find maximum and the minimum value in a set.\n",
    "        e. Write a Python program to find the most common elements and their counts from list,\n",
    "           tuple dictionary."
   ]
  },
  {
   "cell_type": "code",
   "execution_count": null,
   "metadata": {},
   "outputs": [
    {
     "name": "stdout",
     "output_type": "stream",
     "text": [
      "{'COD', 'CS_GO', 'Minecraft'}\n",
      "set()\n"
     ]
    }
   ],
   "source": [
    "#a. Write a Python programme to add members in a set and clear set\n",
    "\n",
    "#adding members to set\n",
    "games={'CS_GO','COD','Minecraft'}\n",
    "print(games) #printing the initial values of set games\n",
    "games.clear()\n",
    "print(games)"
   ]
  },
  {
   "cell_type": "code",
   "execution_count": null,
   "metadata": {},
   "outputs": [
    {
     "name": "stdout",
     "output_type": "stream",
     "text": [
      "num = {1, 2, 3, 4, 5, 6, 7, 8}\n",
      "MODIFIED NUM = {1, 3, 5, 7}\n"
     ]
    }
   ],
   "source": [
    "#b. Write a Python programme to remove an item from set if it is present in the set.\n",
    "\n",
    "num={1,2,3,4,5,6,7,8}\n",
    "print(\"num =\",num)\n",
    "\n",
    "#here we are removing the even elements with the help of discard()\n",
    "for i in range(1,9):\n",
    "        if(i%2==0): #checks if the values of is even or odd\n",
    "                num.discard(i) #discard functions checks wether i is present in num(set) or not\n",
    "print(\"MODIFIED NUM =\",num)\n",
    "\n",
    "        "
   ]
  },
  {
   "cell_type": "code",
   "execution_count": null,
   "metadata": {},
   "outputs": [
    {
     "name": "stdout",
     "output_type": "stream",
     "text": [
      "A : {1, 3, 7, 9, 10}\n",
      "B : {2, 5, 7, 9, 14}\n",
      "Intersection :  {9, 7}\n",
      "Union :  {1, 2, 3, 5, 7, 9, 10, 14}\n",
      "Difference :  {1, 10, 3}\n"
     ]
    }
   ],
   "source": [
    "#c. Write a Python program to create an intersection, Union, difference of sets.\n",
    "\n",
    "#creating two sets\n",
    "A = {1, 3, 7, 9, 10}\n",
    "B = {2, 5, 7, 9, 14}\n",
    "print(\"A :\",A)\n",
    "print(\"B :\",B)\n",
    "print(\"Intersection : \",A & B) # & is used to find the intersection of sets\n",
    "print(\"Union : \",A | B) # | is used to find the union of sets\n",
    "print(\"Difference : \",A - B) # is used ot find the difference in sets\n",
    "\n"
   ]
  },
  {
   "cell_type": "code",
   "execution_count": null,
   "metadata": {},
   "outputs": [
    {
     "name": "stdout",
     "output_type": "stream",
     "text": [
      "A : {32, 64, 2, 128, 4, 1024, 8, 16}\n",
      "Min in A = 2  Max in A = 1024\n"
     ]
    }
   ],
   "source": [
    "#d.  Write a Python program to find maximum and the minimum value in a set.\n",
    "\n",
    "A={2,4,8,16,32,64,128,1024}\n",
    "print(\"A :\",A)\n",
    "#using inbuilt min and max methods to find minimum and maximum values in set respectively\n",
    "print(\"Min in A =\",min(A),\" Max in A =\",max(A))"
   ]
  },
  {
   "cell_type": "code",
   "execution_count": null,
   "metadata": {},
   "outputs": [
    {
     "name": "stdout",
     "output_type": "stream",
     "text": [
      "2\n"
     ]
    }
   ],
   "source": [
    "#e.  Write a Python program to find the most common elements and their counts fom lists,tuple,dictonary.\n",
    "\n",
    "#Logic from Geeks for Geeks\n",
    "num=[1,2,2,1,3,5,2]\n",
    "c=0\n",
    "freq=num[0]\n",
    "\n",
    "for i in num:\n",
    "        curfreq=num.count(i)\n",
    "        if(curfreq>c):\n",
    "                c=curfreq\n",
    "                freq=i\n",
    "print(freq)"
   ]
  }
 ],
 "metadata": {
  "interpreter": {
   "hash": "c5189a2f8256a368b71fb4072ad2ff51ce14f9b6e197c42c4c078267aa9bd994"
  },
  "kernelspec": {
   "display_name": "Python 3.10.0 64-bit",
   "language": "python",
   "name": "python3"
  },
  "language_info": {
   "codemirror_mode": {
    "name": "ipython",
    "version": 3
   },
   "file_extension": ".py",
   "mimetype": "text/x-python",
   "name": "python",
   "nbconvert_exporter": "python",
   "pygments_lexer": "ipython3",
   "version": "3.10.1"
  },
  "orig_nbformat": 4
 },
 "nbformat": 4,
 "nbformat_minor": 2
}
